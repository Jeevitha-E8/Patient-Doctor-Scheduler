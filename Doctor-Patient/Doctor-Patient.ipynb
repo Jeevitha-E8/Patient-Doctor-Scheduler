{
 "cells": [
  {
   "cell_type": "markdown",
   "id": "46a8eb4f",
   "metadata": {},
   "source": [
    "### Patient/Doctor Scheduler"
   ]
  },
  {
   "cell_type": "code",
   "execution_count": 1,
   "id": "1f7b074f",
   "metadata": {},
   "outputs": [],
   "source": [
    "import time"
   ]
  },
  {
   "cell_type": "markdown",
   "id": "e679a7c6",
   "metadata": {},
   "source": [
    ">Timings,Days,doctors\n",
    "are declared before"
   ]
  },
  {
   "cell_type": "code",
   "execution_count": 13,
   "id": "bae7dfde",
   "metadata": {},
   "outputs": [],
   "source": [
    "timings=['9:00am','9:30am','10:00am','10:30am','11:00am','11:30am','12:00pm','1:00pm','1:30pm','2:00pm','2:30pm','3:00pm','3:30pm','4:00pm','4:30pm','5:00pm','5:30pm','6:00pm']\n",
    "Days=['Monday','Tuesday','Wednesday','Thursday','Friday','Saturday']\n",
    "doctors={\"SandhyaRani\":\"Gynaecologist\",\"Hariprasad\":\"Neurologist\",\"Murali\":\"General\"}"
   ]
  },
  {
   "cell_type": "code",
   "execution_count": 9,
   "id": "a77a95ca",
   "metadata": {},
   "outputs": [],
   "source": [
    "class Patient():\n",
    "    def schedule_time(self):\n",
    "        print ('{:_^20}'.format('Welcome to Apollo hospitals!Please complete the registration to book a slot'))\n",
    "        while(True):\n",
    "            patient_name=input(\"Enter your name: \")\n",
    "            day=input(\"Enter the day on which you want slot: \")\n",
    "            if day=='Sunday':\n",
    "                print(\"No slots will be available on weekends.Only emergency cases.\")\n",
    "                break\n",
    "            tim=input(\"Please enter required slot: \")\n",
    "            if (tim in timings) & (day in Days):\n",
    "                for j in doctors:\n",
    "                    print(j)\n",
    "                spec=input(\"Choose your specialist doctor: \")\n",
    "                if spec in doctors:\n",
    "                    print(\"Dear {} your slot is booked at {}\".format(patient_name,tim))\n",
    "                else:\n",
    "                    print(\"Doctor name is incorrect!\")\n",
    "\n",
    "            else:\n",
    "                print('Sorry {}! The slots are busy.Doctors can only handle 16 patients during an 8 hr work day.'.format(patient_name))\n",
    "            break"
   ]
  },
  {
   "cell_type": "code",
   "execution_count": 10,
   "id": "6b8116a4",
   "metadata": {},
   "outputs": [],
   "source": [
    "mypat=Patient()"
   ]
  },
  {
   "cell_type": "code",
   "execution_count": 14,
   "id": "9ad2f314",
   "metadata": {},
   "outputs": [
    {
     "name": "stdout",
     "output_type": "stream",
     "text": [
      "Welcome to Apollo hospitals!Please complete the registration to book a slot\n",
      "Enter your name: Jeevitha\n",
      "Enter the day on which you want slot: Sunday\n",
      "No slots will be available on weekends.Only emergency cases.\n"
     ]
    }
   ],
   "source": [
    "mypat.schedule_time()"
   ]
  },
  {
   "cell_type": "code",
   "execution_count": 15,
   "id": "5907aed7",
   "metadata": {},
   "outputs": [
    {
     "name": "stdout",
     "output_type": "stream",
     "text": [
      "Welcome to Apollo hospitals!Please complete the registration to book a slot\n",
      "Enter your name: Jeevitha\n",
      "Enter the day on which you want slot: Monday\n",
      "Please enter required slot: 10:30am\n",
      "SandhyaRani\n",
      "Hariprasad\n",
      "Murali\n",
      "Choose your specialist doctor: SandhyaRani\n",
      "Dear Jeevitha your slot is booked at 10:30am\n"
     ]
    }
   ],
   "source": [
    "mypat.schedule_time()"
   ]
  },
  {
   "cell_type": "code",
   "execution_count": 16,
   "id": "a4797a51",
   "metadata": {},
   "outputs": [
    {
     "name": "stdout",
     "output_type": "stream",
     "text": [
      "Welcome to Apollo hospitals!Please complete the registration to book a slot\n",
      "Enter your name: Jeevitha\n",
      "Enter the day on which you want slot: Tuesday\n",
      "Please enter required slot: 12:30pm\n",
      "Sorry Jeevitha! The slots are busy.Doctors can only handle 16 patients during an 8 hr work day.\n"
     ]
    }
   ],
   "source": [
    "mypat.schedule_time()"
   ]
  },
  {
   "cell_type": "markdown",
   "id": "21caedb1",
   "metadata": {},
   "source": [
    "### ThankYou!"
   ]
  }
 ],
 "metadata": {
  "kernelspec": {
   "display_name": "Python 3",
   "language": "python",
   "name": "python3"
  },
  "language_info": {
   "codemirror_mode": {
    "name": "ipython",
    "version": 3
   },
   "file_extension": ".py",
   "mimetype": "text/x-python",
   "name": "python",
   "nbconvert_exporter": "python",
   "pygments_lexer": "ipython3",
   "version": "3.8.8"
  }
 },
 "nbformat": 4,
 "nbformat_minor": 5
}
